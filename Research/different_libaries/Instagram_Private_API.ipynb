{
 "cells": [
  {
   "cell_type": "code",
   "execution_count": null,
   "metadata": {},
   "outputs": [],
   "source": [
    "from instagram_private_api import Client, ClientCompatPatch\n",
    "\n",
    "user_name = 'masonashford6'\n",
    "password = '!X$4nai7!B*!dmA4'\n",
    "\n",
    "api = Client(user_name, password)"
   ]
  },
  {
   "cell_type": "code",
   "execution_count": null,
   "metadata": {},
   "outputs": [],
   "source": [
    "import pickle as pkl\n",
    "with open('InstagramAPI.pkl', mode='rb') as f:\n",
    "    api = pkl.load(f)\n",
    "\n",
    "results = api.feed_timeline()"
   ]
  },
  {
   "cell_type": "code",
   "execution_count": null,
   "metadata": {},
   "outputs": [],
   "source": [
    "results = api.feed_timeline()\n",
    "items = [item for item in results.get('feed_items', []) if item.get('media_or_ad')]\n",
    "for item in items:\n",
    "    # Manually patch the entity to match the public api as closely as possible, optional\n",
    "    # To automatically patch entities, initialise the Client with auto_patch=True\n",
    "    ClientCompatPatch.media(item['media_or_ad'])\n",
    "    print(item['media_or_ad']['code'])\n",
    "    print(item)\n",
    "results\n",
    "import json\n",
    "with open(\"result.json\", mode='w') as f:\n",
    "    json.dump(results, f, indent=7)"
   ]
  },
  {
   "cell_type": "code",
   "execution_count": null,
   "metadata": {},
   "outputs": [],
   "source": [
    "import requests\n",
    "from PIL import Image\n",
    "from io import BytesIO\n",
    "\n",
    "def download_image(url):\n",
    "    response = requests.get(url)\n",
    "    img = Image.open(BytesIO(response.content))\n",
    "    return img\n",
    "\n",
    "image = download_image('https://instagram.ffra1-1.fna.fbcdn.net/v/t51.2885-19/327616713_643640900850593_551463003816693392_n.jpg?stp=dst-jpg_s150x150&_nc_ht=instagram.ffra1-1.fna.fbcdn.net&_nc_cat=1&_nc_ohc=1MKmsbhbe2wAX-GlGn9&edm=AJ9x6zYBAAAA&ccb=7-5&oh=00_AfDn-Kze1iUnAthIOkIaWhv3etd1gMWMe2lNuc1Epd6e0Q&oe=63FA1AF3&_nc_sid=cff2a4')\n",
    "image"
   ]
  }
 ],
 "metadata": {
  "kernelspec": {
   "display_name": "Python 3",
   "language": "python",
   "name": "python3"
  },
  "language_info": {
   "codemirror_mode": {
    "name": "ipython",
    "version": 3
   },
   "file_extension": ".py",
   "mimetype": "text/x-python",
   "name": "python",
   "nbconvert_exporter": "python",
   "pygments_lexer": "ipython3",
   "version": "3.10.10"
  },
  "orig_nbformat": 4,
  "vscode": {
   "interpreter": {
    "hash": "b85bead6ff6c6039f479969d0e77da51c1ebae673b6eecbbeec0c08e6221192f"
   }
  }
 },
 "nbformat": 4,
 "nbformat_minor": 2
}
