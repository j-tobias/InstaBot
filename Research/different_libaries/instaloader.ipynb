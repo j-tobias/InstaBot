{
 "cells": [
  {
   "cell_type": "code",
   "execution_count": 26,
   "metadata": {},
   "outputs": [],
   "source": [
    "from instaloader import Instaloader, Profile\n",
    "from itertools import islice\n",
    "from math import ceil\n",
    "\n",
    "user_name = 'masonashford6'\n",
    "password = '!X$4nai7!B*!dmA4'"
   ]
  },
  {
   "cell_type": "code",
   "execution_count": 2,
   "metadata": {},
   "outputs": [],
   "source": [
    "Instagram = Instaloader()\n",
    "Instagram.login(user_name, password)"
   ]
  },
  {
   "cell_type": "code",
   "execution_count": 3,
   "metadata": {},
   "outputs": [
    {
     "data": {
      "text/plain": [
       "<generator object Instaloader.get_stories at 0x000002B6241CC120>"
      ]
     },
     "execution_count": 3,
     "metadata": {},
     "output_type": "execute_result"
    }
   ],
   "source": [
    "Instagram.get_stories()"
   ]
  },
  {
   "cell_type": "code",
   "execution_count": 4,
   "metadata": {},
   "outputs": [
    {
     "name": "stdout",
     "output_type": "stream",
     "text": [
      "Saved session to C:\\Users\\Justus Tobias\\AppData\\Local\\Instaloader\\session-masonashford6.\n"
     ]
    }
   ],
   "source": [
    "#SAVE SESSION\n",
    "Instagram.save_session_to_file()\n",
    "#Saved session to C:\\Users\\Justus Tobias\\AppData\\Local\\Instaloader\\session-masonashford6."
   ]
  },
  {
   "cell_type": "code",
   "execution_count": 24,
   "metadata": {},
   "outputs": [],
   "source": [
    "#GET STORIES\n",
    "stories = Instagram.get_stories()"
   ]
  },
  {
   "cell_type": "code",
   "execution_count": 25,
   "metadata": {},
   "outputs": [
    {
     "name": "stdout",
     "output_type": "stream",
     "text": [
      "<generator object Story.get_items at 0x000002B6254D83C0>\n",
      "<generator object Story.get_items at 0x000002B6254DA570>\n",
      "<generator object Story.get_items at 0x000002B6254DA650>\n",
      "<generator object Story.get_items at 0x000002B6254DA730>\n",
      "<generator object Story.get_items at 0x000002B6254DA810>\n",
      "<generator object Story.get_items at 0x000002B6254DA8F0>\n"
     ]
    }
   ],
   "source": [
    "items = []\n",
    "for story in stories:\n",
    "    items.append(story.get_items())\n",
    "    print(story.get_items())\n",
    "\n"
   ]
  },
  {
   "cell_type": "code",
   "execution_count": 28,
   "metadata": {},
   "outputs": [
    {
     "data": {
      "text/plain": [
       "<instaloader.nodeiterator.NodeIterator at 0x2b624c9d060>"
      ]
     },
     "execution_count": 28,
     "metadata": {},
     "output_type": "execute_result"
    }
   ],
   "source": [
    "PROFILE = 'paris.explore'\n",
    "profile = Profile.from_username(Instagram.context, PROFILE)\n",
    "profile.get_followers()"
   ]
  },
  {
   "cell_type": "code",
   "execution_count": 30,
   "metadata": {},
   "outputs": [
    {
     "name": "stdout",
     "output_type": "stream",
     "text": [
      "hotelbotaniste\\2023-02-21_17-03-56_UTC.jpg [Moment du thé, au chaud dans …] json \n",
      "hotelbotaniste\\2023-02-17_07-50-50_UTC.jpg [Merveilles cachées de notre 1…] json \n",
      "hotelbotaniste\\2023-02-13_11-03-01_UTC.jpg [Lieu de vie, pour partager de…] json \n",
      "hotelbotaniste\\2023-02-10_08-18-04_UTC.jpg [Escapade dépaysante dans notr…] hotelbotaniste\\2023-02-10_08-18-04_UTC.mp4 json \n",
      "hotelbotaniste\\2023-02-07_16-30-00_UTC.jpg [Des couleurs tout au long de …] json \n",
      "hotelbotaniste\\2023-02-03_10-18-49_UTC.jpg [Toute l’année, un sentiment d…] json \n",
      "hotelbotaniste\\2023-01-27_07-05-25_UTC.jpg [Journée gourmande, dès le pet…] json \n",
      "hotelbotaniste\\2023-01-19_15-19-13_UTC.jpg [Visite dans notre très appréc…] json \n",
      "hotelbotaniste\\2023-01-15_09-18-59_UTC.jpg [Tout le charme de la campagne…] json \n",
      "hotelbotaniste\\2023-01-11_15-56-09_UTC.jpg [Inspiration par @gienfrance d…] json \n",
      "hotelbotaniste\\2023-01-06_08-16-24_UTC.jpg [Séjour Romantique au Botanist…] hotelbotaniste\\2023-01-06_08-16-24_UTC.mp4 json \n",
      "hotelbotaniste\\2022-12-28_18-06-29_UTC.jpg [Des tapisseries, uniques et c…] hotelbotaniste\\2022-12-28_18-06-29_UTC.mp4 json \n",
      "hotelbotaniste\\2022-12-24_08-34-28_UTC.jpg [En cette période de fêtes de …] json \n",
      "hotelbotaniste\\2022-12-22_16-26-43_UTC.jpg [Finir la journée sur votre te…] json \n",
      "hotelbotaniste\\2022-12-19_07-07-13_UTC.jpg [Une journée d'hiver, toujours…] json \n",
      "hotelbotaniste\\2022-12-14_08-03-17_UTC.jpg [Le début d’une belle journée …] hotelbotaniste\\2022-12-14_08-03-17_UTC.mp4 json \n",
      "hotelbotaniste\\2022-12-09_16-11-33_UTC.jpg [Derrière Le Botaniste, le Ham…] json \n",
      "hotelbotaniste\\2022-11-30_07-40-55_UTC.jpg [Authenticité & confort, décou…] json \n",
      "hotelbotaniste\\2022-11-27_08-58-09_UTC.jpg [Notre lobby, pièce de vie par…] json \n",
      "hotelbotaniste\\2022-11-22_16-51-37_UTC.jpg [Après-midi ensoleillé dans le…] json \n",
      "hotelbotaniste\\2022-11-18_08-01-11_UTC.jpg [Sauter de votre lit directeme…] json \n",
      "hotelbotaniste\\2022-11-12_07-54-56_UTC.jpg [Apprécier un Thé Damman depui…] json \n",
      "hotelbotaniste\\2022-11-10_15-04-56_UTC.jpg [Profiter allègrement d'un bel…] json \n",
      "hotelbotaniste\\2022-11-03_09-39-40_UTC.jpg [Le plus bel arrondissement de…] json \n",
      "hotelbotaniste\\2022-10-31_08-52-05_UTC.jpg [Un mélange de couleurs pastel…] json \n",
      "hotelbotaniste\\2022-10-25_15-51-07_UTC.jpg [Au détour de ruelles, pendant…] json \n",
      "hotelbotaniste\\2022-10-20_07-17-35_UTC_1.jpg hotelbotaniste\\2022-10-20_07-17-35_UTC_2.jpg [Véritable esprit d'une maison…] json \n",
      "hotelbotaniste\\2022-10-15_07-00-14_UTC.jpg [Les couleurs automnales qui r…] json \n",
      "hotelbotaniste\\2022-10-11_07-00-23_UTC.jpg [Petit boudoir parisien dans v…] json \n",
      "hotelbotaniste\\2022-10-04_06-31-04_UTC.jpg [Pour célébrer comme il se doi…] json \n",
      "hotelbotaniste\\2022-09-30_08-30-23_UTC.jpg [Inspiration d'un pique-nique …] json \n",
      "hotelbotaniste\\2022-09-27_06-00-48_UTC.jpg [Douce odeur de Provence dans …] json \n",
      "hotelbotaniste\\2022-09-23_06-00-38_UTC.jpg [La nature omniprésente au Bot…] json \n",
      "hotelbotaniste\\2022-09-20_06-30-45_UTC.jpg [La grande dame pointe le bout…] json \n",
      "hotelbotaniste\\2022-09-16_15-00-47_UTC.jpg [Se réfugier dans notre salon …] json \n",
      "hotelbotaniste\\2022-09-13_15-00-42_UTC.jpg [Pour lire tous les secrets du…] json \n",
      "hotelbotaniste\\2022-09-09_15-07-19_UTC.jpg [Bienvenue au Botaniste 🌾 - We…] hotelbotaniste\\2022-09-09_15-07-19_UTC.mp4 json \n",
      "hotelbotaniste\\2022-09-06_06-30-47_UTC.jpg [Se promener dans le 16ème et …] json \n",
      "hotelbotaniste\\2022-09-03_06-30-34_UTC.jpg [Profitez d'une escapade paris…] json \n",
      "hotelbotaniste\\2022-08-26_14-00-26_UTC.jpg [Tea-time dans notre salon, co…] json \n",
      "hotelbotaniste\\2022-08-23_07-00-33_UTC.jpg [Les meilleurs flans viennent …] json \n",
      "hotelbotaniste\\2022-08-19_16-00-35_UTC.jpg [Se perdre dans le 16ème et ap…] json \n",
      "hotelbotaniste\\2022-08-16_07-00-29_UTC.jpg [Le Botaniste sera votre pied-…] json \n",
      "hotelbotaniste\\2022-08-13_07-00-52_UTC.jpg [L'esprit chaleureux du Botani…] json \n",
      "hotelbotaniste\\2022-08-08_06-30-52_UTC_1.jpg hotelbotaniste\\2022-08-08_06-30-52_UTC_2.jpg [Petit-déjeuner complet pour u…] json \n",
      "hotelbotaniste\\2022-08-05_06-30-48_UTC.jpg [Se sentir dépaysé, depuis Par…] json \n",
      "hotelbotaniste\\2022-08-03_05-59-55_UTC.jpg [Se balader, Rue Molitor 🤍 - W…] json \n",
      "hotelbotaniste\\2022-07-27_14-17-32_UTC.jpg [Séjour Parisien rêvé, dans vo…] json \n",
      "hotelbotaniste\\2022-07-22_14-35-22_UTC.jpg [S’accorder une pause dans not…] json \n",
      "hotelbotaniste\\2022-07-19_15-50-33_UTC.jpg [S'arrêter chez Cravan, pour u…] json \n",
      "hotelbotaniste\\2022-07-17_16-06-12_UTC.jpg [Lecture sur le chevet 📚 - Rea…] json \n",
      "hotelbotaniste\\2022-07-12_14-13-30_UTC.jpg [La Maison de Balzac, au coeur…] json \n",
      "hotelbotaniste\\2022-07-08_07-56-09_UTC.jpg [Cocon fleuri au coeur du 16èm…] json \n",
      "hotelbotaniste\\2022-06-24_07-23-02_UTC.jpg [Bouquets de fleurs séchées, s…] json \n",
      "hotelbotaniste\\2022-06-21_06-39-05_UTC.jpg [Des détails à ne plus savoir …] json \n",
      "hotelbotaniste\\2022-06-17_08-05-19_UTC.jpg [Cachée dans un placard où ouv…] json \n",
      "hotelbotaniste\\2022-06-10_14-30-59_UTC.jpg [Dans notre salon coloré ou in…] json \n",
      "hotelbotaniste\\2022-06-07_13-20-16_UTC.jpg [Au Botaniste, chaque chambre …] json \n",
      "hotelbotaniste\\2022-05-25_15-53-14_UTC.jpg [Jouer avec la lumière, les ma…] json \n",
      "hotelbotaniste\\2022-05-18_07-35-16_UTC.jpg [Aux beaux jours, on profite d…] json \n",
      "hotelbotaniste\\2022-05-10_15-01-38_UTC.jpg [L'esprit Botaniste, c'est l'a…] json \n",
      "hotelbotaniste\\2022-05-04_07-42-01_UTC.jpg [Que serait une maison de fami…] json \n",
      "hotelbotaniste\\2022-04-02_12-44-47_UTC.jpg [La simplicité de nos chambres…] json \n",
      "hotelbotaniste\\2022-03-26_14-48-25_UTC.jpg [Flâner dans notre paisible qu…] json \n",
      "hotelbotaniste\\2022-03-19_16-50-40_UTC.jpg [Profitez du beau temps sur vo…] json \n",
      "hotelbotaniste\\2022-03-14_18-04-38_UTC.jpg [Besoin d’un instant de bien-ê…] json \n",
      "hotelbotaniste\\2022-03-09_16-49-37_UTC.jpg [Moment de détente en plein cœ…] json \n",
      "hotelbotaniste\\2022-03-06_15-26-12_UTC.jpg [Fêter votre anniversaire dans…] json \n",
      "hotelbotaniste\\2022-03-04_14-41-15_UTC_1.jpg hotelbotaniste\\2022-03-04_14-41-15_UTC_2.jpg [Ce dimanche pour la fête des …] json \n",
      "hotelbotaniste\\2022-03-03_15-56-52_UTC.jpg [Après-midi parisien au Botani…] json \n",
      "hotelbotaniste\\2022-03-02_16-24-58_UTC.jpg [Tea time, everything is ready…] json \n",
      "hotelbotaniste\\2022-03-01_11-24-09_UTC.jpg [La sérénité des chambres Déco…] json \n",
      "hotelbotaniste\\2022-02-24_15-10-18_UTC.jpg [L’essence du Botaniste ❤️  #b…] json \n",
      "hotelbotaniste\\2022-02-19_15-17-27_UTC.jpg [L’architecture si précieuse d…] json \n",
      "hotelbotaniste\\2022-02-17_17-02-02_UTC.jpg [L’Atmosphère détendue de la g…] json \n",
      "hotelbotaniste\\2022-02-14_08-54-20_UTC_1.jpg hotelbotaniste\\2022-02-14_08-54-20_UTC_2.jpg [« Le bonheur existe, il est d…] json \n",
      "hotelbotaniste\\2022-02-04_15-54-24_UTC_1.jpg hotelbotaniste\\2022-02-04_15-54-24_UTC_2.jpg [L’amour s’invite au Botaniste…] json \n",
      "hotelbotaniste\\2022-01-13_15-58-22_UTC_1.jpg hotelbotaniste\\2022-01-13_15-58-22_UTC_2.jpg [Quand les rayons du soleil ap…] json \n",
      "hotelbotaniste\\2022-01-10_15-16-02_UTC.jpg [L’univers botaniste  - The Bo…] json \n",
      "hotelbotaniste\\2021-12-23_16-42-11_UTC.jpg [En panne d'inspiration pour l…] json \n",
      "hotelbotaniste\\2021-12-16_14-51-23_UTC_1.jpg hotelbotaniste\\2021-12-16_14-51-23_UTC_2.jpg [Nombre d'artistes puisent leu…] json \n",
      "hotelbotaniste\\2021-12-13_13-22-28_UTC.jpg [Infusion poétique. Belle sema…] json \n",
      "hotelbotaniste\\2021-12-07_08-26-15_UTC.jpg [Le Jardin des Serres d’Auteui…] json \n",
      "hotelbotaniste\\2021-12-04_08-44-50_UTC.jpg [Week-end au vert ! — Green we…] json \n",
      "hotelbotaniste\\2021-12-02_12-05-26_UTC.jpg [La richesse d’un quartier. #v…] json \n",
      "hotelbotaniste\\2021-11-30_08-20-29_UTC.jpg [Breakfast therapy.  #lebotani…] json \n",
      "hotelbotaniste\\2021-11-26_11-56-53_UTC.jpg [Quand la botanique inspire… -…] json \n",
      "hotelbotaniste\\2021-11-24_08-33-11_UTC.jpg [Se réveiller ici,  puis après…] json \n",
      "hotelbotaniste\\2021-11-22_11-35-17_UTC.jpg [Le jardin du Ranelagh été com…] json \n",
      "hotelbotaniste\\2021-11-19_12-48-02_UTC.jpg [Au Botaniste, nous déjouons l…] json \n",
      "hotelbotaniste\\2021-11-18_08-24-13_UTC.jpg [Petit-déjeuner fleuri au Bota…] json \n",
      "hotelbotaniste\\2021-11-17_08-22-51_UTC.jpg [Un séjour au coin de la chemi…] json \n",
      "hotelbotaniste\\2021-11-11_15-52-25_UTC.jpg [C’était ce matin ! Petit déje…] json \n",
      "hotelbotaniste\\2021-11-09_05-08-15_UTC.jpg [Respirer dans le quartier - B…] json \n",
      "hotelbotaniste\\2021-11-04_12-43-16_UTC.jpg [Comme une échappée bucolique,…] json \n",
      "hotelbotaniste\\2021-11-02_09-54-50_UTC.jpg [Échappée verte à quelques min…] json \n",
      "hotelbotaniste\\2021-10-28_10-20-55_UTC.jpg [Un salon pour faire banquette…] json \n",
      "hotelbotaniste\\2021-10-25_06-50-15_UTC.jpg [Nouvelle semaine au Botaniste…] json \n",
      "hotelbotaniste\\2021-10-21_17-24-36_UTC.jpg [Dans le quartier… Le métro et…] json \n",
      "hotelbotaniste\\2021-10-05_17-04-42_UTC.jpg [Et si on commençait la semain…] json \n",
      "hotelbotaniste\\2021-09-08_15-18-42_UTC.jpg [À tous les amoureux de calme …] json \n",
      "hotelbotaniste\\2021-09-06_14-15-01_UTC.jpg [Si vous souhaitez prolonger l…] json \n"
     ]
    }
   ],
   "source": [
    "# Get All Pictures of a Profile just by It's Profilename\n",
    "\n",
    "def get_all_picutres_of_profile_by_profilname (profilename: str):\n",
    "    \"\"\"\n",
    "    this function downloads all pictures from the account with the given profilename\n",
    "    it creates and folder with the profilename and saves all Posts to it\n",
    "    \"\"\"\n",
    "\n",
    "    # get a profile by its username\n",
    "    profile = Profile.from_username(Instagram.context, profilename)\n",
    "\n",
    "    # download all the pictures from the profile\n",
    "    for post in profile.get_posts():\n",
    "        Instagram.download_post(post, target=profile.username)\n"
   ]
  },
  {
   "cell_type": "code",
   "execution_count": null,
   "metadata": {},
   "outputs": [],
   "source": []
  }
 ],
 "metadata": {
  "kernelspec": {
   "display_name": "Python 3",
   "language": "python",
   "name": "python3"
  },
  "language_info": {
   "codemirror_mode": {
    "name": "ipython",
    "version": 3
   },
   "file_extension": ".py",
   "mimetype": "text/x-python",
   "name": "python",
   "nbconvert_exporter": "python",
   "pygments_lexer": "ipython3",
   "version": "3.11.1"
  },
  "orig_nbformat": 4,
  "vscode": {
   "interpreter": {
    "hash": "aee8b7b246df8f9039afb4144a1f6fd8d2ca17a180786b69acc140d282b71a49"
   }
  }
 },
 "nbformat": 4,
 "nbformat_minor": 2
}
