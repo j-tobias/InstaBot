{
 "cells": [
  {
   "cell_type": "markdown",
   "metadata": {},
   "source": [
    "## Important Links\n",
    "\n",
    "- https://developers.facebook.com/docs/instagram-api/overview\n",
    "\n",
    "\n",
    "## CafesTreasures\n",
    "\n",
    "    ID: 102450302773320"
   ]
  },
  {
   "cell_type": "markdown",
   "metadata": {},
   "source": []
  },
  {
   "cell_type": "code",
   "execution_count": null,
   "metadata": {},
   "outputs": [],
   "source": []
  }
 ],
 "metadata": {
  "kernelspec": {
   "display_name": "Python 3 (ipykernel)",
   "language": "python",
   "name": "python3"
  },
  "language_info": {
   "codemirror_mode": {
    "name": "ipython",
    "version": 3
   },
   "file_extension": ".py",
   "mimetype": "text/x-python",
   "name": "python",
   "nbconvert_exporter": "python",
   "pygments_lexer": "ipython3",
   "version": "3.8.16"
  },
  "vscode": {
   "interpreter": {
    "hash": "9870b2edee9128d2804c2a0e7924482bdcc733b7c71e4cdfe66b9ce335ef5fe7"
   }
  }
 },
 "nbformat": 4,
 "nbformat_minor": 4
}
