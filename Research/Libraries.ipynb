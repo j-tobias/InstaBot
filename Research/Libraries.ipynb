{
 "cells": [],
 "metadata": {
  "kernelspec": {
   "display_name": "base",
   "language": "python",
   "name": "python3"
  },
  "language_info": {
   "codemirror_mode": {
    "name": "ipython",
    "version": 3
   },
   "file_extension": ".py",
   "mimetype": "text/x-python",
   "name": "python",
   "nbconvert_exporter": "python",
   "pygments_lexer": "ipython3",
   "version": "3.9.13"
  },
  "orig_nbformat": 4,
  "vscode": {
   "interpreter": {
    "hash": "9870b2edee9128d2804c2a0e7924482bdcc733b7c71e4cdfe66b9ce335ef5fe7"
   }
  }
 },
 "nbformat": 4,
 "nbformat_minor": 2
}
