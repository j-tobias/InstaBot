{
 "cells": [
  {
   "cell_type": "code",
   "execution_count": 6,
   "metadata": {},
   "outputs": [
    {
     "ename": "ClientError",
     "evalue": "Bad Request: ip_block",
     "output_type": "error",
     "traceback": [
      "\u001b[1;31m---------------------------------------------------------------------------\u001b[0m",
      "\u001b[1;31mHTTPError\u001b[0m                                 Traceback (most recent call last)",
      "File \u001b[1;32m~\\AppData\\Local\\Packages\\PythonSoftwareFoundation.Python.3.10_qbz5n2kfra8p0\\LocalCache\\local-packages\\Python310\\site-packages\\instagram_private_api\\client.py:523\u001b[0m, in \u001b[0;36mClient._call_api\u001b[1;34m(self, endpoint, params, query, return_response, unsigned, version)\u001b[0m\n\u001b[0;32m    522\u001b[0m     \u001b[39mself\u001b[39m\u001b[39m.\u001b[39mlogger\u001b[39m.\u001b[39mdebug(\u001b[39m'\u001b[39m\u001b[39mDATA: \u001b[39m\u001b[39m{0!s}\u001b[39;00m\u001b[39m'\u001b[39m\u001b[39m.\u001b[39mformat(data))\n\u001b[1;32m--> 523\u001b[0m     response \u001b[39m=\u001b[39m \u001b[39mself\u001b[39;49m\u001b[39m.\u001b[39;49mopener\u001b[39m.\u001b[39;49mopen(req, timeout\u001b[39m=\u001b[39;49m\u001b[39mself\u001b[39;49m\u001b[39m.\u001b[39;49mtimeout)\n\u001b[0;32m    524\u001b[0m \u001b[39mexcept\u001b[39;00m compat_urllib_error\u001b[39m.\u001b[39mHTTPError \u001b[39mas\u001b[39;00m e:\n",
      "File \u001b[1;32mC:\\Program Files\\WindowsApps\\PythonSoftwareFoundation.Python.3.10_3.10.2800.0_x64__qbz5n2kfra8p0\\lib\\urllib\\request.py:525\u001b[0m, in \u001b[0;36mOpenerDirector.open\u001b[1;34m(self, fullurl, data, timeout)\u001b[0m\n\u001b[0;32m    524\u001b[0m     meth \u001b[39m=\u001b[39m \u001b[39mgetattr\u001b[39m(processor, meth_name)\n\u001b[1;32m--> 525\u001b[0m     response \u001b[39m=\u001b[39m meth(req, response)\n\u001b[0;32m    527\u001b[0m \u001b[39mreturn\u001b[39;00m response\n",
      "File \u001b[1;32mC:\\Program Files\\WindowsApps\\PythonSoftwareFoundation.Python.3.10_3.10.2800.0_x64__qbz5n2kfra8p0\\lib\\urllib\\request.py:634\u001b[0m, in \u001b[0;36mHTTPErrorProcessor.http_response\u001b[1;34m(self, request, response)\u001b[0m\n\u001b[0;32m    633\u001b[0m \u001b[39mif\u001b[39;00m \u001b[39mnot\u001b[39;00m (\u001b[39m200\u001b[39m \u001b[39m<\u001b[39m\u001b[39m=\u001b[39m code \u001b[39m<\u001b[39m \u001b[39m300\u001b[39m):\n\u001b[1;32m--> 634\u001b[0m     response \u001b[39m=\u001b[39m \u001b[39mself\u001b[39;49m\u001b[39m.\u001b[39;49mparent\u001b[39m.\u001b[39;49merror(\n\u001b[0;32m    635\u001b[0m         \u001b[39m'\u001b[39;49m\u001b[39mhttp\u001b[39;49m\u001b[39m'\u001b[39;49m, request, response, code, msg, hdrs)\n\u001b[0;32m    637\u001b[0m \u001b[39mreturn\u001b[39;00m response\n",
      "File \u001b[1;32mC:\\Program Files\\WindowsApps\\PythonSoftwareFoundation.Python.3.10_3.10.2800.0_x64__qbz5n2kfra8p0\\lib\\urllib\\request.py:563\u001b[0m, in \u001b[0;36mOpenerDirector.error\u001b[1;34m(self, proto, *args)\u001b[0m\n\u001b[0;32m    562\u001b[0m args \u001b[39m=\u001b[39m (\u001b[39mdict\u001b[39m, \u001b[39m'\u001b[39m\u001b[39mdefault\u001b[39m\u001b[39m'\u001b[39m, \u001b[39m'\u001b[39m\u001b[39mhttp_error_default\u001b[39m\u001b[39m'\u001b[39m) \u001b[39m+\u001b[39m orig_args\n\u001b[1;32m--> 563\u001b[0m \u001b[39mreturn\u001b[39;00m \u001b[39mself\u001b[39;49m\u001b[39m.\u001b[39;49m_call_chain(\u001b[39m*\u001b[39;49margs)\n",
      "File \u001b[1;32mC:\\Program Files\\WindowsApps\\PythonSoftwareFoundation.Python.3.10_3.10.2800.0_x64__qbz5n2kfra8p0\\lib\\urllib\\request.py:496\u001b[0m, in \u001b[0;36mOpenerDirector._call_chain\u001b[1;34m(self, chain, kind, meth_name, *args)\u001b[0m\n\u001b[0;32m    495\u001b[0m func \u001b[39m=\u001b[39m \u001b[39mgetattr\u001b[39m(handler, meth_name)\n\u001b[1;32m--> 496\u001b[0m result \u001b[39m=\u001b[39m func(\u001b[39m*\u001b[39;49margs)\n\u001b[0;32m    497\u001b[0m \u001b[39mif\u001b[39;00m result \u001b[39mis\u001b[39;00m \u001b[39mnot\u001b[39;00m \u001b[39mNone\u001b[39;00m:\n",
      "File \u001b[1;32mC:\\Program Files\\WindowsApps\\PythonSoftwareFoundation.Python.3.10_3.10.2800.0_x64__qbz5n2kfra8p0\\lib\\urllib\\request.py:643\u001b[0m, in \u001b[0;36mHTTPDefaultErrorHandler.http_error_default\u001b[1;34m(self, req, fp, code, msg, hdrs)\u001b[0m\n\u001b[0;32m    642\u001b[0m \u001b[39mdef\u001b[39;00m \u001b[39mhttp_error_default\u001b[39m(\u001b[39mself\u001b[39m, req, fp, code, msg, hdrs):\n\u001b[1;32m--> 643\u001b[0m     \u001b[39mraise\u001b[39;00m HTTPError(req\u001b[39m.\u001b[39mfull_url, code, msg, hdrs, fp)\n",
      "\u001b[1;31mHTTPError\u001b[0m: HTTP Error 400: Bad Request",
      "\nDuring handling of the above exception, another exception occurred:\n",
      "\u001b[1;31mClientError\u001b[0m                               Traceback (most recent call last)",
      "\u001b[1;32mp:\\Programming\\InstaBot\\InstaBot\\Research\\Instagram_Private_API.ipynb Cell 1\u001b[0m in \u001b[0;36m<cell line: 6>\u001b[1;34m()\u001b[0m\n\u001b[0;32m      <a href='vscode-notebook-cell:/p%3A/Programming/InstaBot/InstaBot/Research/Instagram_Private_API.ipynb#W1sZmlsZQ%3D%3D?line=2'>3</a>\u001b[0m user_name \u001b[39m=\u001b[39m \u001b[39m'\u001b[39m\u001b[39mmasonashford6\u001b[39m\u001b[39m'\u001b[39m\n\u001b[0;32m      <a href='vscode-notebook-cell:/p%3A/Programming/InstaBot/InstaBot/Research/Instagram_Private_API.ipynb#W1sZmlsZQ%3D%3D?line=3'>4</a>\u001b[0m password \u001b[39m=\u001b[39m \u001b[39m'\u001b[39m\u001b[39m!X$4nai7!B*!dmA4\u001b[39m\u001b[39m'\u001b[39m\n\u001b[1;32m----> <a href='vscode-notebook-cell:/p%3A/Programming/InstaBot/InstaBot/Research/Instagram_Private_API.ipynb#W1sZmlsZQ%3D%3D?line=5'>6</a>\u001b[0m api \u001b[39m=\u001b[39m Client(user_name, password)\n",
      "File \u001b[1;32m~\\AppData\\Local\\Packages\\PythonSoftwareFoundation.Python.3.10_qbz5n2kfra8p0\\LocalCache\\local-packages\\Python310\\site-packages\\instagram_private_api\\client.py:208\u001b[0m, in \u001b[0;36mClient.__init__\u001b[1;34m(self, username, password, **kwargs)\u001b[0m\n\u001b[0;32m    206\u001b[0m     \u001b[39mif\u001b[39;00m \u001b[39mnot\u001b[39;00m \u001b[39mself\u001b[39m\u001b[39m.\u001b[39musername \u001b[39mor\u001b[39;00m \u001b[39mnot\u001b[39;00m \u001b[39mself\u001b[39m\u001b[39m.\u001b[39mpassword:\n\u001b[0;32m    207\u001b[0m         \u001b[39mraise\u001b[39;00m ClientLoginRequiredError(\u001b[39m'\u001b[39m\u001b[39mlogin_required\u001b[39m\u001b[39m'\u001b[39m, code\u001b[39m=\u001b[39m\u001b[39m400\u001b[39m)\n\u001b[1;32m--> 208\u001b[0m     \u001b[39mself\u001b[39;49m\u001b[39m.\u001b[39;49mlogin()\n\u001b[0;32m    210\u001b[0m \u001b[39mself\u001b[39m\u001b[39m.\u001b[39mlogger\u001b[39m.\u001b[39mdebug(\u001b[39m'\u001b[39m\u001b[39mUSERAGENT: \u001b[39m\u001b[39m{0!s}\u001b[39;00m\u001b[39m'\u001b[39m\u001b[39m.\u001b[39mformat(\u001b[39mself\u001b[39m\u001b[39m.\u001b[39muser_agent))\n\u001b[0;32m    211\u001b[0m \u001b[39msuper\u001b[39m(Client, \u001b[39mself\u001b[39m)\u001b[39m.\u001b[39m\u001b[39m__init__\u001b[39m()\n",
      "File \u001b[1;32m~\\AppData\\Local\\Packages\\PythonSoftwareFoundation.Python.3.10_qbz5n2kfra8p0\\LocalCache\\local-packages\\Python310\\site-packages\\instagram_private_api\\endpoints\\accounts.py:49\u001b[0m, in \u001b[0;36mAccountsEndpointsMixin.login\u001b[1;34m(self)\u001b[0m\n\u001b[0;32m     34\u001b[0m     \u001b[39mraise\u001b[39;00m ClientError(\n\u001b[0;32m     35\u001b[0m         \u001b[39m'\u001b[39m\u001b[39mUnable to get csrf from prelogin.\u001b[39m\u001b[39m'\u001b[39m,\n\u001b[0;32m     36\u001b[0m         error_response\u001b[39m=\u001b[39m\u001b[39mself\u001b[39m\u001b[39m.\u001b[39m_read_response(prelogin_params))\n\u001b[0;32m     38\u001b[0m login_params \u001b[39m=\u001b[39m {\n\u001b[0;32m     39\u001b[0m     \u001b[39m'\u001b[39m\u001b[39mdevice_id\u001b[39m\u001b[39m'\u001b[39m: \u001b[39mself\u001b[39m\u001b[39m.\u001b[39mdevice_id,\n\u001b[0;32m     40\u001b[0m     \u001b[39m'\u001b[39m\u001b[39mguid\u001b[39m\u001b[39m'\u001b[39m: \u001b[39mself\u001b[39m\u001b[39m.\u001b[39muuid,\n\u001b[1;32m   (...)\u001b[0m\n\u001b[0;32m     46\u001b[0m     \u001b[39m'\u001b[39m\u001b[39mlogin_attempt_count\u001b[39m\u001b[39m'\u001b[39m: \u001b[39m'\u001b[39m\u001b[39m0\u001b[39m\u001b[39m'\u001b[39m,\n\u001b[0;32m     47\u001b[0m }\n\u001b[1;32m---> 49\u001b[0m login_response \u001b[39m=\u001b[39m \u001b[39mself\u001b[39;49m\u001b[39m.\u001b[39;49m_call_api(\n\u001b[0;32m     50\u001b[0m     \u001b[39m'\u001b[39;49m\u001b[39maccounts/login/\u001b[39;49m\u001b[39m'\u001b[39;49m, params\u001b[39m=\u001b[39;49mlogin_params, return_response\u001b[39m=\u001b[39;49m\u001b[39mTrue\u001b[39;49;00m)\n\u001b[0;32m     52\u001b[0m \u001b[39mif\u001b[39;00m \u001b[39mnot\u001b[39;00m \u001b[39mself\u001b[39m\u001b[39m.\u001b[39mcsrftoken:\n\u001b[0;32m     53\u001b[0m     \u001b[39mraise\u001b[39;00m ClientError(\n\u001b[0;32m     54\u001b[0m         \u001b[39m'\u001b[39m\u001b[39mUnable to get csrf from login.\u001b[39m\u001b[39m'\u001b[39m,\n\u001b[0;32m     55\u001b[0m         error_response\u001b[39m=\u001b[39m\u001b[39mself\u001b[39m\u001b[39m.\u001b[39m_read_response(login_response))\n",
      "File \u001b[1;32m~\\AppData\\Local\\Packages\\PythonSoftwareFoundation.Python.3.10_qbz5n2kfra8p0\\LocalCache\\local-packages\\Python310\\site-packages\\instagram_private_api\\client.py:527\u001b[0m, in \u001b[0;36mClient._call_api\u001b[1;34m(self, endpoint, params, query, return_response, unsigned, version)\u001b[0m\n\u001b[0;32m    525\u001b[0m     error_response \u001b[39m=\u001b[39m \u001b[39mself\u001b[39m\u001b[39m.\u001b[39m_read_response(e)\n\u001b[0;32m    526\u001b[0m     \u001b[39mself\u001b[39m\u001b[39m.\u001b[39mlogger\u001b[39m.\u001b[39mdebug(\u001b[39m'\u001b[39m\u001b[39mRESPONSE: \u001b[39m\u001b[39m{0:d}\u001b[39;00m\u001b[39m \u001b[39m\u001b[39m{1!s}\u001b[39;00m\u001b[39m'\u001b[39m\u001b[39m.\u001b[39mformat(e\u001b[39m.\u001b[39mcode, error_response))\n\u001b[1;32m--> 527\u001b[0m     ErrorHandler\u001b[39m.\u001b[39;49mprocess(e, error_response)\n\u001b[0;32m    529\u001b[0m \u001b[39mexcept\u001b[39;00m (SSLError, timeout, SocketError,\n\u001b[0;32m    530\u001b[0m         compat_urllib_error\u001b[39m.\u001b[39mURLError,   \u001b[39m# URLError is base of HTTPError\u001b[39;00m\n\u001b[0;32m    531\u001b[0m         compat_http_client\u001b[39m.\u001b[39mHTTPException,\n\u001b[0;32m    532\u001b[0m         \u001b[39mConnectionError\u001b[39;00m) \u001b[39mas\u001b[39;00m connection_error:\n\u001b[0;32m    533\u001b[0m     \u001b[39mraise\u001b[39;00m ClientConnectionError(\u001b[39m'\u001b[39m\u001b[39m{}\u001b[39;00m\u001b[39m \u001b[39m\u001b[39m{}\u001b[39;00m\u001b[39m'\u001b[39m\u001b[39m.\u001b[39mformat(\n\u001b[0;32m    534\u001b[0m         connection_error\u001b[39m.\u001b[39m\u001b[39m__class__\u001b[39m\u001b[39m.\u001b[39m\u001b[39m__name__\u001b[39m, \u001b[39mstr\u001b[39m(connection_error)))\n",
      "File \u001b[1;32m~\\AppData\\Local\\Packages\\PythonSoftwareFoundation.Python.3.10_qbz5n2kfra8p0\\LocalCache\\local-packages\\Python310\\site-packages\\instagram_private_api\\errors.py:135\u001b[0m, in \u001b[0;36mErrorHandler.process\u001b[1;34m(http_error, error_response)\u001b[0m\n\u001b[0;32m    131\u001b[0m \u001b[39mexcept\u001b[39;00m \u001b[39mValueError\u001b[39;00m \u001b[39mas\u001b[39;00m ve:\n\u001b[0;32m    132\u001b[0m     \u001b[39m# do nothing else, prob can't parse json\u001b[39;00m\n\u001b[0;32m    133\u001b[0m     logger\u001b[39m.\u001b[39mwarning(\u001b[39m'\u001b[39m\u001b[39mError parsing error response: \u001b[39m\u001b[39m{}\u001b[39;00m\u001b[39m'\u001b[39m\u001b[39m.\u001b[39mformat(\u001b[39mstr\u001b[39m(ve)))\n\u001b[1;32m--> 135\u001b[0m \u001b[39mraise\u001b[39;00m ClientError(error_msg, http_error\u001b[39m.\u001b[39mcode, error_response)\n",
      "\u001b[1;31mClientError\u001b[0m: Bad Request: ip_block"
     ]
    }
   ],
   "source": [
    "from instagram_private_api import Client, ClientCompatPatch\n",
    "\n",
    "user_name = 'masonashford6'\n",
    "password = '!X$4nai7!B*!dmA4'\n",
    "\n",
    "api = Client(user_name, password)"
   ]
  },
  {
   "cell_type": "code",
   "execution_count": null,
   "metadata": {},
   "outputs": [],
   "source": [
    "import pickle as pkl\n",
    "with open('InstagramAPI.pkl', mode='rb') as f:\n",
    "    api = pkl.load(f)\n",
    "\n",
    "results = api.feed_timeline()"
   ]
  },
  {
   "cell_type": "code",
   "execution_count": null,
   "metadata": {},
   "outputs": [],
   "source": [
    "results = api.feed_timeline()\n",
    "items = [item for item in results.get('feed_items', []) if item.get('media_or_ad')]\n",
    "for item in items:\n",
    "    # Manually patch the entity to match the public api as closely as possible, optional\n",
    "    # To automatically patch entities, initialise the Client with auto_patch=True\n",
    "    ClientCompatPatch.media(item['media_or_ad'])\n",
    "    print(item['media_or_ad']['code'])\n",
    "    print(item)\n",
    "results\n",
    "import json\n",
    "with open(\"result.json\", mode='w') as f:\n",
    "    json.dump(results, f, indent=7)"
   ]
  },
  {
   "cell_type": "code",
   "execution_count": null,
   "metadata": {},
   "outputs": [],
   "source": [
    "import requests\n",
    "from PIL import Image\n",
    "from io import BytesIO\n",
    "\n",
    "def download_image(url):\n",
    "    response = requests.get(url)\n",
    "    img = Image.open(BytesIO(response.content))\n",
    "    return img\n",
    "\n",
    "image = download_image('https://instagram.ffra1-1.fna.fbcdn.net/v/t51.2885-19/327616713_643640900850593_551463003816693392_n.jpg?stp=dst-jpg_s150x150&_nc_ht=instagram.ffra1-1.fna.fbcdn.net&_nc_cat=1&_nc_ohc=1MKmsbhbe2wAX-GlGn9&edm=AJ9x6zYBAAAA&ccb=7-5&oh=00_AfDn-Kze1iUnAthIOkIaWhv3etd1gMWMe2lNuc1Epd6e0Q&oe=63FA1AF3&_nc_sid=cff2a4')\n",
    "image"
   ]
  }
 ],
 "metadata": {
  "kernelspec": {
   "display_name": "Python 3",
   "language": "python",
   "name": "python3"
  },
  "language_info": {
   "codemirror_mode": {
    "name": "ipython",
    "version": 3
   },
   "file_extension": ".py",
   "mimetype": "text/x-python",
   "name": "python",
   "nbconvert_exporter": "python",
   "pygments_lexer": "ipython3",
   "version": "3.10.10"
  },
  "orig_nbformat": 4,
  "vscode": {
   "interpreter": {
    "hash": "b85bead6ff6c6039f479969d0e77da51c1ebae673b6eecbbeec0c08e6221192f"
   }
  }
 },
 "nbformat": 4,
 "nbformat_minor": 2
}
