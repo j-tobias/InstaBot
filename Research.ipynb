{
 "cells": [
  {
   "attachments": {},
   "cell_type": "markdown",
   "metadata": {},
   "source": [
    "<div style=\"background-color: darkgreen; color: white; font-family: 'Monospace'; padding: 20px; font-size: 20px;\">\n",
    "  <h1 style=\"color:orange;\">Here are some popular Python libraries for interacting with Instagram:</h1>\n",
    "  <ul>\n",
    "    <li>Instaloader: used for downloading pictures and videos from Instagram posts, as well as user information and metadata.</li>\n",
    "    <li>Instapy: a library for automating tasks on Instagram, such as liking and commenting on posts, following and unfollowing users, and more.</li>\n",
    "    <li>InstagramAPI: a Python wrapper for the Instagram Private API that provides access to features such as posting media, getting user information, and more.</li>\n",
    "    <li>python-instagram: a library that provides access to the Instagram API and helps developers perform actions such as uploading photos and videos, searching for users and media, and more.</li>\n",
    "    <li>PyInstagram: another library for accessing the Instagram API, providing functionality for working with media and user information.</li>\n",
    "  </ul>\n",
    "  <p>Note: Using these libraries for automating actions on Instagram may be against their terms of service and can result in account suspension or termination.</p>\n",
    "</div>\n",
    "\n",
    "\n",
    "<div style=\"background-color: darkgreen; color: white; font-family: 'Monospace'; padding: 20px; font-size: 20px;\">\n",
    "  <h1 style=\"color:orange;\">What i learned</h1>\n",
    "  <ul>\n",
    "    <li>It is important to use the API in a good and sustainable way -> scraping Data is not wished and will result in a ban</li>\n",
    "    <li>There are webhooks/callbacks for ['Media Published','User follow', 'User unfollow', 'DM recieved', 'Comment created', 'Like created']</li>\n",
    "    <li>The API supportes uploads for Images (JPEG, PNG), Videos (MP4), Reels, IGTV</li>\n",
    "  </ul>\n",
    "</div>"
   ]
  },
  {
   "cell_type": "code",
   "execution_count": null,
   "metadata": {},
   "outputs": [
    {
     "ename": "",
     "evalue": "",
     "output_type": "error",
     "traceback": [
      "\u001b[1;31mDer Kernel konnte nicht gestartet werden. \n",
      "\u001b[1;31mKernel Python 3.11.1 ist nicht verwendbar. Weitere Informationen finden Sie auf der Registerkarte Jupyter-Ausgabe. \n",
      "\u001b[1;31mWeitere Details finden Sie in Jupyter <a href='command:jupyter.viewOutput'>log</a>."
     ]
    }
   ],
   "source": [
    "print('Hello World')"
   ]
  },
  {
   "cell_type": "code",
   "execution_count": null,
   "metadata": {},
   "outputs": [
    {
     "ename": "",
     "evalue": "",
     "output_type": "error",
     "traceback": [
      "\u001b[1;31mDer Kernel konnte nicht gestartet werden. \n",
      "\u001b[1;31mKernel Python 3.11.1 ist nicht verwendbar. Weitere Informationen finden Sie auf der Registerkarte Jupyter-Ausgabe. \n",
      "\u001b[1;31mWeitere Details finden Sie in Jupyter <a href='command:jupyter.viewOutput'>log</a>."
     ]
    }
   ],
   "source": [
    "import InstagramAPI\n",
    "\n",
    "\n",
    "\n",
    "Instagram = InstagramAPI()"
   ]
  }
 ],
 "metadata": {
  "kernelspec": {
   "display_name": "Python 3",
   "language": "python",
   "name": "python3"
  },
  "language_info": {
   "name": "python",
   "version": "3.11.1"
  },
  "orig_nbformat": 4,
  "vscode": {
   "interpreter": {
    "hash": "aee8b7b246df8f9039afb4144a1f6fd8d2ca17a180786b69acc140d282b71a49"
   }
  }
 },
 "nbformat": 4,
 "nbformat_minor": 2
}
