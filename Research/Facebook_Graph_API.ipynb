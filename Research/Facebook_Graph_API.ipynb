{
 "cells": [
  {
   "attachments": {},
   "cell_type": "markdown",
   "metadata": {},
   "source": [
    "# Here are some popular Python libraries for interacting with Instagram:\n",
    "\n",
    "- Instaloader: used for downloading pictures and videos from Instagram posts, as well as user information and metadata.\n",
    "- Instapy: a library for automating tasks on Instagram, such as liking and commenting on posts, following and unfollowing users, and more.\n",
    "- InstagramAPI: a Python wrapper for the Instagram Private API that provides access to features such as posting media, getting user information, and more.\n",
    "- python-instagram: a library that provides access to the Instagram API and helps developers perform actions such as uploading photos and videos, searching for users and media, and more.\n",
    "- PyInstagram: another library for accessing the Instagram API, providing functionality for working with media and user information.\n",
    "\n",
    "#### Note: Using these libraries for automating actions on Instagram may be against their terms of service and can result in account suspension or termination.\n",
    "\n",
    "\n",
    "# What i learned\n",
    "\n",
    "- It is important to use the API in a good and sustainable way -> scraping Data is not wished and will result in a ban\n",
    "- There are webhooks/callbacks for ['Media Published','User follow', 'User unfollow', 'DM recieved', 'Comment created', 'Like created']\n",
    "- The API supportes uploads for Images (JPEG, PNG), Videos (MP4), Reels, IGTV\n",
    "\n",
    "\n",
    "# About the Graph API\n",
    "\n",
    "- Fast alle Anfragen werden an die Host-URL graph.facebook.com übergeben. Die einzige Ausnahme sind Video-Uploads, die graph-video. facebook.com verwenden. "
   ]
  },
  {
   "cell_type": "code",
   "execution_count": 2,
   "metadata": {},
   "outputs": [],
   "source": [
    "import requests"
   ]
  },
  {
   "cell_type": "code",
   "execution_count": null,
   "metadata": {},
   "outputs": [],
   "source": []
  },
  {
   "cell_type": "code",
   "execution_count": 1,
   "metadata": {},
   "outputs": [],
   "source": [
    "\"\"\"\n",
    "Nodes\n",
    "\n",
    "Ein Node ist ein einzelnes Objekt mit einer eindeutigen ID. \n",
    "Es gibt beispielsweise viele User-Node-Objekte, wobei jedes eine eindeutige ID einer Person auf Facebook aufweist. \n",
    "Seiten, Gruppen, Posts, Fotos und Kommentare sind nur einige Beispiele für Nodes im Facebook Social Graph\n",
    "\"\"\"\n",
    "\n",
    "#Important Requests\n",
    "\n",
    "def get_node(user_id, access_token):\n",
    "    \"\"\"\n",
    "    GET \\ \"https://graph.facebook.com/USER-ID?access_token=ACCESS-TOKEN\"\n",
    "\n",
    "    returns \\n\n",
    "    {\n",
    "        \"name\": \"Your Name\",\n",
    "        \"id\": \"YOUR-USER-ID\"\n",
    "    }\n",
    "    \"\"\"\n",
    "\n",
    "    response = requests.get(f\"https://graph.facebook.com/{user_id}?access_token={access_token}\")\n",
    "    return response.text\n",
    "\n",
    "def get_metadata(user_id, access_token):\n",
    "    \"\"\"\n",
    "    GET \\ \"https://graph.facebook.com/USER-ID?metadata=1&access_token=ACCESS-TOKEN\"\n",
    "\n",
    "    returns \\n\n",
    "    {\n",
    "    \"name\": \"Jane Smith\",\n",
    "    \"metadata\": {\n",
    "        \"fields\": [\n",
    "        {\n",
    "            \"name\": \"id\",\n",
    "            \"description\": \"The app user's App-Scoped User ID. This ID is unique to the app and cannot be used by other apps.\",\n",
    "            \"type\": \"numeric string\"\n",
    "        },\n",
    "        {\n",
    "            \"name\": \"age_range\",\n",
    "            \"description\": \"The age segment for this person expressed as a minimum and maximum age. For example, more than 18, less than 21.\",\n",
    "            \"type\": \"agerange\"\n",
    "        },\n",
    "        {\n",
    "            \"name\": \"birthday\",\n",
    "            \"description\": \"The person's birthday.  This is a fixed format string, like `MM/DD/YYYY`.  However, people can control who can see the year they were born separately from the month and day so this string can be only the year (YYYY) or the month + day (MM/DD)\",\n",
    "            \"type\": \"string\"\n",
    "        },\n",
    "    \"\"\"\n",
    "\n",
    "    response = requests.get(f\"https://graph.facebook.com/{user_id}?metadata=1&access_token={access_token}\")\n",
    "    return response.text\n",
    "\n",
    "def get_me(access_token):\n",
    "    \"\"\"\n",
    "    GET \\ \"https://graph.facebook.com/me?access_token=ACCESS-TOKEN\"\n",
    "    \"\"\"\n",
    "\n",
    "    response = requests.get(f\"https://graph.facebook.com/me?acess_token={access_token}\")\n",
    "    return response.text"
   ]
  },
  {
   "cell_type": "code",
   "execution_count": null,
   "metadata": {},
   "outputs": [],
   "source": [
    "\"\"\"\n",
    "Edges\n",
    "\n",
    "Eine Edge ist eine Verbindung zwischen zwei Nodes. \n",
    "Beispielsweise können mit einem User-Node Fotos und mit einem Foto-Node Kommentare verknüpft sein.\n",
    "\"\"\"\n",
    "\n",
    "def get_photos_by_id(user_id, access_token):\n",
    "    \"\"\"\n",
    "    Mit dem folgenden cURL-Beispiel wird eine Liste von Fotos zurückgegeben, die eine Person auf Facebook veröffentlicht hat.\n",
    "\n",
    "    GET \\ \"https://graph.facebook.com/USER-ID/photos?access_token=ACCESS-TOKEN\"\n",
    "\n",
    "    returns \\n\n",
    "            {\n",
    "    \"data\": [\n",
    "        {\n",
    "        \"created_time\": \"2017-06-06T18:04:10+0000\",\n",
    "        \"id\": \"1353272134728652\"\n",
    "        },\n",
    "        {\n",
    "        \"created_time\": \"2017-06-06T18:01:13+0000\",\n",
    "        \"id\": \"1353269908062208\"\n",
    "        }\n",
    "    ],\n",
    "    }\n",
    "    \"\"\"\n",
    "\n",
    "    response = requests.get(f\"https://graph.facebook.com/{user_id}/photos?access_token={access_token}\")\n",
    "    return response.text\n"
   ]
  },
  {
   "cell_type": "code",
   "execution_count": null,
   "metadata": {},
   "outputs": [],
   "source": [
    "\"\"\"\n",
    "Felder\n",
    "\n",
    "Felder sind Node-Eigenschaften. \n",
    "Wenn du eine Abfrage an einen Node oder eine Edge sendest, \n",
    "gibt diese(r) standardmäßig verschiedene Felder zurück – wie in den Beispielen oben gezeigt. \n",
    "Du kannst jedoch angeben, welche Felder zurückgegeben werden sollen, indem du für jedes Feld den fields-Parameter und Listen verwendest. \n",
    "Damit wird die Standardeinstellung überschrieben und es werden nur die von dir definierten Felder zurückgegeben. \n",
    "Darüber hinaus wird die ID des Objekts zurückgegeben (diese wird immer zurückgegeben).\n",
    "\"\"\"\n",
    "\n",
    "#Die folgende cURL-Abfrage enthält den fields-Parameter sowie den Namen, die E-Mail-Adresse und das Profilbild des Users\n",
    "\n",
    "def get_fields(user_id, access_token, fields: str):\n",
    "    \"\"\"\n",
    "    GET \\ \"https://graph.facebook.com/USER-ID?fields=id,name,email,picture&access_token=ACCESS-TOKEN\"\n",
    "\n",
    "    returns \\n\n",
    "        {\n",
    "    \"id\": \"USER-ID\",\n",
    "    \"name\": \"EXAMPLE NAME\",\n",
    "    \"email\": \"EXAMPLE@EMAIL.COM\",\n",
    "    \"picture\": {\n",
    "        \"data\": {\n",
    "        \"height\": 50,\n",
    "        \"is_silhouette\": false,\n",
    "        \"url\": \"URL-FOR-USER-PROFILE-PICTURE\",\n",
    "        \"width\": 50\n",
    "        }\n",
    "    }\n",
    "    }\n",
    "    \"\"\"\n",
    "\n",
    "    response = requests.get(f\"https://graph.facebook.com/{user_id}?fields={fields}&access_token={access_token}\")\n",
    "    return response.text\n",
    "\n",
    "\n",
    "\n",
    "\"\"\"\n",
    "Komplexe Parameter\n",
    "\n",
    "Die meisten Parametertypen sind ganz normale Primitive, wie bool, string und int. \n",
    "Es gibt aber auch list- und object-Typen, die in der Anfrage angegeben werden können.\n",
    "\n",
    "Der list-Typ wird in JSON-Syntax angegeben, wie: [\"firstitem\", \"seconditem\", \"thirditem\"]\n",
    "\n",
    "Der object-Typ wird ebenfalls in JSON-Syntax angegeben, wie: {\"firstkey\": \"firstvalue\", \"secondKey\": 123}\n",
    "\"\"\""
   ]
  },
  {
   "cell_type": "code",
   "execution_count": null,
   "metadata": {},
   "outputs": [],
   "source": [
    "\"\"\"\n",
    "Veröffentlichung, Aktualisierung und Löschung\n",
    "\n",
    "In unserem Facebook-Leitfaden zum Teilen erfährst du, wie du Inhalte im Facebook-Bereich eines Users veröffentlichst. \n",
    "In der Pages API-Dokumentation hingegen erfährst du, wie du Inhalte im Facebook-Feed einer Seite veröffentlichst.\n",
    "\n",
    "In einigen Nodes kannst du Felder über POST-Vorgänge aktualisieren. \n",
    "\"\"\"\n",
    "\n",
    "#So könntest du beispielsweise dein email-Feld folgendermaßen aktualisieren:\n",
    "def update_email(user_id, email, access_token):\n",
    "    \"\"\"\n",
    "    POST \\ \"https://graph.facebook.com/USER-ID?email=YOURNEW@EMAILADDRESS.COM&access_token=ACCESS-TOKEN\"\n",
    "    \"\"\"\n",
    "    response = requests.post(f\"https://graph.facebook.com/{user_id}?email={email}&access_token={access_token}\")\n",
    "    return response.text\n",
    "\n",
    "\"\"\"\n",
    "Read-After-Write\n",
    "\n",
    "Für Erstellungs- und Aktualisierungsendpunkte kann die Graph API ein erfolgreich veröffentlichtes \n",
    "oder aktualisiertes Objekt sofort lesen und alle Felder zurückgeben, die vom jeweiligen Leseendpunkt unterstützt werden.\n",
    "\n",
    "Standardmäßig wird eine ID des erstellten oder aktualisierten Objekts zurückgegeben. \n",
    "Um weitere Informationen in die Antwort aufzunehmen, musst du den fields-Parameter in deine Anfrage aufnehmen und die Felder auflisten, \n",
    "die zurückgegeben werden sollen. \n",
    "Um beispielsweise die Nachricht „Hello“ im Feed einer Seite zu veröffentlichen, könntest du die folgende Anfrage senden:\n",
    "\"\"\""
   ]
  },
  {
   "cell_type": "code",
   "execution_count": 7,
   "metadata": {},
   "outputs": [],
   "source": [
    "import requests\n",
    "\n",
    "token = 'EAAMmLMiWPEEBANoZCZAZAXL6l8XECwEVMj9YVVR9txR5QLZALzEV90G4jMZAVZBwr2ZCZBbZC0FmfN4pEgWkZB8KHR3NNc5MDyctF6c2rD6jhZALHxuOtkkoFXWa6QKXuZAPFfHuDfzaTZALJ5oonTSZB7EcMwZAkjrdeeJkXxIJoNicSTHXsDUYzh4f1pyRoQdfqNdr9CqPTqu3tdY4yEMjSfeurX15Ps7Hph0xk8ZD'\n",
    "\n",
    "base_url = \"https://graph.facebook.com/v16.0\""
   ]
  },
  {
   "cell_type": "code",
   "execution_count": 8,
   "metadata": {},
   "outputs": [
    {
     "data": {
      "text/plain": [
       "'{\"id\":\"108395642170146\",\"name\":\"Diwata Aracelis\"}'"
      ]
     },
     "execution_count": 8,
     "metadata": {},
     "output_type": "execute_result"
    }
   ],
   "source": [
    "url = f\"{base_url}/me?fields=id%2Cname&access_token={token}\"\n",
    "response = requests.get(url)\n",
    "response.text"
   ]
  },
  {
   "cell_type": "code",
   "execution_count": 17,
   "metadata": {},
   "outputs": [
    {
     "data": {
      "text/plain": [
       "'{\"error\":{\"message\":\"Unknown path components: \\\\/me\\\\/accounts\",\"type\":\"OAuthException\",\"code\":2500,\"fbtrace_id\":\"AiVnr5mUDtbfx1E6sVn8hBE\"}}'"
      ]
     },
     "execution_count": 17,
     "metadata": {},
     "output_type": "execute_result"
    }
   ],
   "source": [
    "user_id = 108395642170146\n",
    "url = f\"{base_url}/{user_id}/me/accounts?access_token={token}\"\n",
    "response = requests.get(url)\n",
    "response.text"
   ]
  },
  {
   "cell_type": "code",
   "execution_count": 20,
   "metadata": {},
   "outputs": [
    {
     "data": {
      "text/plain": [
       "\"Sorry, this content isn't available right now\""
      ]
     },
     "execution_count": 20,
     "metadata": {},
     "output_type": "execute_result"
    }
   ],
   "source": [
    "url = f\"https://graph.instagram.com/me/followers?fields=id&access_token={token}\"\n",
    "\n",
    "response = requests.get(url)\n",
    "response.text"
   ]
  }
 ],
 "metadata": {
  "kernelspec": {
   "display_name": "base",
   "language": "python",
   "name": "python3"
  },
  "language_info": {
   "codemirror_mode": {
    "name": "ipython",
    "version": 3
   },
   "file_extension": ".py",
   "mimetype": "text/x-python",
   "name": "python",
   "nbconvert_exporter": "python",
   "pygments_lexer": "ipython3",
   "version": "3.9.13"
  },
  "vscode": {
   "interpreter": {
    "hash": "9870b2edee9128d2804c2a0e7924482bdcc733b7c71e4cdfe66b9ce335ef5fe7"
   }
  }
 },
 "nbformat": 4,
 "nbformat_minor": 2
}
