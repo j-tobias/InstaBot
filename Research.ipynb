{
 "cells": [
  {
   "attachments": {},
   "cell_type": "markdown",
   "metadata": {},
   "source": [
    "<div style=\"background-color: darkgreen; color: white; font-family: 'Monospace'; padding: 20px; font-size: 20px;\">\n",
    "  <h1 style=\"color:orange;\">Here are some popular Python libraries for interacting with Instagram:</h1>\n",
    "  <ul>\n",
    "    <li>Instaloader: used for downloading pictures and videos from Instagram posts, as well as user information and metadata.</li>\n",
    "    <li>Instapy: a library for automating tasks on Instagram, such as liking and commenting on posts, following and unfollowing users, and more.</li>\n",
    "    <li>InstagramAPI: a Python wrapper for the Instagram Private API that provides access to features such as posting media, getting user information, and more.</li>\n",
    "    <li>python-instagram: a library that provides access to the Instagram API and helps developers perform actions such as uploading photos and videos, searching for users and media, and more.</li>\n",
    "    <li>PyInstagram: another library for accessing the Instagram API, providing functionality for working with media and user information.</li>\n",
    "  </ul>\n",
    "  <p>Note: Using these libraries for automating actions on Instagram may be against their terms of service and can result in account suspension or termination.</p>\n",
    "</div>\n",
    "\n",
    "\n",
    "<div style=\"background-color: darkgreen; color: white; font-family: 'Monospace'; padding: 20px; font-size: 20px;\">\n",
    "  <h1 style=\"color:orange;\">What i learned</h1>\n",
    "  <ul>\n",
    "    <li>It is important to use the API in a good and sustainable way -> scraping Data is not wished and will result in a ban</li>\n",
    "    <li>There are webhooks/callbacks for ['Media Published','User follow', 'User unfollow', 'DM recieved', 'Comment created', 'Like created']</li>\n",
    "    <li>The API supportes uploads for Images (JPEG, PNG), Videos (MP4), Reels, IGTV</li>\n",
    "  </ul>\n",
    "</div>"
   ]
  },
  {
   "cell_type": "code",
   "execution_count": 7,
   "metadata": {},
   "outputs": [
    {
     "ename": "AttributeError",
     "evalue": "module 'collections' has no attribute 'MutableMapping'",
     "output_type": "error",
     "traceback": [
      "\u001b[0;31m---------------------------------------------------------------------------\u001b[0m",
      "\u001b[0;31mAttributeError\u001b[0m                            Traceback (most recent call last)",
      "\u001b[1;32m/Users/justustobias/pCloud Drive/Programming/InstaBot/InstaBot/Research.ipynb Zelle 2\u001b[0m in \u001b[0;36m<cell line: 1>\u001b[0;34m()\u001b[0m\n\u001b[0;32m----> <a href='vscode-notebook-cell:/Users/justustobias/pCloud%20Drive/Programming/InstaBot/InstaBot/Research.ipynb#W2sZmlsZQ%3D%3D?line=0'>1</a>\u001b[0m \u001b[39mimport\u001b[39;00m \u001b[39mrequests\u001b[39;00m\n",
      "File \u001b[0;32m/Library/Frameworks/Python.framework/Versions/3.10/lib/python3.10/site-packages/requests/__init__.py:63\u001b[0m, in \u001b[0;36m<module>\u001b[0;34m\u001b[0m\n\u001b[1;32m     60\u001b[0m \u001b[39mfrom\u001b[39;00m \u001b[39m.\u001b[39;00m\u001b[39mpackages\u001b[39;00m\u001b[39m.\u001b[39;00m\u001b[39murllib3\u001b[39;00m\u001b[39m.\u001b[39;00m\u001b[39mexceptions\u001b[39;00m \u001b[39mimport\u001b[39;00m DependencyWarning\n\u001b[1;32m     61\u001b[0m warnings\u001b[39m.\u001b[39msimplefilter(\u001b[39m'\u001b[39m\u001b[39mignore\u001b[39m\u001b[39m'\u001b[39m, DependencyWarning)\n\u001b[0;32m---> 63\u001b[0m \u001b[39mfrom\u001b[39;00m \u001b[39m.\u001b[39;00m \u001b[39mimport\u001b[39;00m utils\n\u001b[1;32m     64\u001b[0m \u001b[39mfrom\u001b[39;00m \u001b[39m.\u001b[39;00m\u001b[39mmodels\u001b[39;00m \u001b[39mimport\u001b[39;00m Request, Response, PreparedRequest\n\u001b[1;32m     65\u001b[0m \u001b[39mfrom\u001b[39;00m \u001b[39m.\u001b[39;00m\u001b[39mapi\u001b[39;00m \u001b[39mimport\u001b[39;00m request, get, head, post, patch, put, delete, options\n",
      "File \u001b[0;32m/Library/Frameworks/Python.framework/Versions/3.10/lib/python3.10/site-packages/requests/utils.py:27\u001b[0m, in \u001b[0;36m<module>\u001b[0;34m\u001b[0m\n\u001b[1;32m     23\u001b[0m \u001b[39mfrom\u001b[39;00m \u001b[39m.\u001b[39;00m\u001b[39mcompat\u001b[39;00m \u001b[39mimport\u001b[39;00m parse_http_list \u001b[39mas\u001b[39;00m _parse_list_header\n\u001b[1;32m     24\u001b[0m \u001b[39mfrom\u001b[39;00m \u001b[39m.\u001b[39;00m\u001b[39mcompat\u001b[39;00m \u001b[39mimport\u001b[39;00m (quote, urlparse, \u001b[39mbytes\u001b[39m, \u001b[39mstr\u001b[39m, OrderedDict, unquote, is_py2,\n\u001b[1;32m     25\u001b[0m                      builtin_str, getproxies, proxy_bypass, urlunparse,\n\u001b[1;32m     26\u001b[0m                      basestring)\n\u001b[0;32m---> 27\u001b[0m \u001b[39mfrom\u001b[39;00m \u001b[39m.\u001b[39;00m\u001b[39mcookies\u001b[39;00m \u001b[39mimport\u001b[39;00m RequestsCookieJar, cookiejar_from_dict\n\u001b[1;32m     28\u001b[0m \u001b[39mfrom\u001b[39;00m \u001b[39m.\u001b[39;00m\u001b[39mstructures\u001b[39;00m \u001b[39mimport\u001b[39;00m CaseInsensitiveDict\n\u001b[1;32m     29\u001b[0m \u001b[39mfrom\u001b[39;00m \u001b[39m.\u001b[39;00m\u001b[39mexceptions\u001b[39;00m \u001b[39mimport\u001b[39;00m InvalidURL, InvalidHeader, FileModeWarning\n",
      "File \u001b[0;32m/Library/Frameworks/Python.framework/Versions/3.10/lib/python3.10/site-packages/requests/cookies.py:172\u001b[0m, in \u001b[0;36m<module>\u001b[0;34m\u001b[0m\n\u001b[1;32m    166\u001b[0m \u001b[39mclass\u001b[39;00m \u001b[39mCookieConflictError\u001b[39;00m(\u001b[39mRuntimeError\u001b[39;00m):\n\u001b[1;32m    167\u001b[0m     \u001b[39m\"\"\"There are two cookies that meet the criteria specified in the cookie jar.\u001b[39;00m\n\u001b[1;32m    168\u001b[0m \u001b[39m    Use .get and .set and include domain and path args in order to be more specific.\u001b[39;00m\n\u001b[1;32m    169\u001b[0m \u001b[39m    \"\"\"\u001b[39;00m\n\u001b[0;32m--> 172\u001b[0m \u001b[39mclass\u001b[39;00m \u001b[39mRequestsCookieJar\u001b[39;00m(cookielib\u001b[39m.\u001b[39mCookieJar, collections\u001b[39m.\u001b[39;49mMutableMapping):\n\u001b[1;32m    173\u001b[0m     \u001b[39m\"\"\"Compatibility class; is a cookielib.CookieJar, but exposes a dict\u001b[39;00m\n\u001b[1;32m    174\u001b[0m \u001b[39m    interface.\u001b[39;00m\n\u001b[1;32m    175\u001b[0m \n\u001b[0;32m   (...)\u001b[0m\n\u001b[1;32m    187\u001b[0m \u001b[39m    .. warning:: dictionary operations that are normally O(1) may be O(n).\u001b[39;00m\n\u001b[1;32m    188\u001b[0m \u001b[39m    \"\"\"\u001b[39;00m\n\u001b[1;32m    190\u001b[0m     \u001b[39mdef\u001b[39;00m \u001b[39mget\u001b[39m(\u001b[39mself\u001b[39m, name, default\u001b[39m=\u001b[39m\u001b[39mNone\u001b[39;00m, domain\u001b[39m=\u001b[39m\u001b[39mNone\u001b[39;00m, path\u001b[39m=\u001b[39m\u001b[39mNone\u001b[39;00m):\n",
      "\u001b[0;31mAttributeError\u001b[0m: module 'collections' has no attribute 'MutableMapping'"
     ]
    }
   ],
   "source": [
    "import requests\n"
   ]
  }
 ],
 "metadata": {
  "kernelspec": {
   "display_name": "Python 3",
   "language": "python",
   "name": "python3"
  },
  "language_info": {
   "codemirror_mode": {
    "name": "ipython",
    "version": 3
   },
   "file_extension": ".py",
   "mimetype": "text/x-python",
   "name": "python",
   "nbconvert_exporter": "python",
   "pygments_lexer": "ipython3",
   "version": "3.10.5"
  },
  "orig_nbformat": 4,
  "vscode": {
   "interpreter": {
    "hash": "7e1998ff7f8aa20ada591c520b972326324e5ea05489af9e422744c7c09f6dad"
   }
  }
 },
 "nbformat": 4,
 "nbformat_minor": 2
}
